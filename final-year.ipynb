{
 "cells": [
  {
   "cell_type": "code",
   "execution_count": 104,
   "metadata": {},
   "outputs": [
    {
     "name": "stdout",
     "output_type": "stream",
     "text": [
      "Index(['id', 'name', 'asins', 'brand', 'categories', 'keys', 'manufacturer',\n",
      "       'reviews.date', 'reviews.dateAdded', 'reviews.dateSeen',\n",
      "       'reviews.didPurchase', 'reviews.doRecommend', 'reviews.id',\n",
      "       'reviews.numHelpful', 'reviews.rating', 'reviews.sourceURLs',\n",
      "       'reviews.text', 'reviews.title', 'reviews.userCity',\n",
      "       'reviews.userProvince', 'reviews.username'],\n",
      "      dtype='object')\n"
     ]
    },
    {
     "name": "stderr",
     "output_type": "stream",
     "text": [
      "C:\\Users\\SAYANTAN\\Anaconda3\\lib\\site-packages\\IPython\\core\\interactiveshell.py:2785: DtypeWarning: Columns (1,10) have mixed types. Specify dtype option on import or set low_memory=False.\n",
      "  interactivity=interactivity, compiler=compiler, result=result)\n"
     ]
    }
   ],
   "source": [
    "#DATASET LINK : https://www.kaggle.com/datafiniti/consumer-reviews-of-amazon-products\n",
    "#IMPORTING THE DATASET\n",
    "import pandas as pd\n",
    "\n",
    "raw_data=pd.read_csv('C:\\\\Users\\\\SAYANTAN\\\\Desktop\\\\1429_1.csv')\n",
    "\n",
    "print(raw_data.columns)"
   ]
  },
  {
   "cell_type": "code",
   "execution_count": 105,
   "metadata": {},
   "outputs": [
    {
     "name": "stdout",
     "output_type": "stream",
     "text": [
      "   reviews.rating                                       reviews.text\n",
      "0             5.0  This product so far has not disappointed. My c...\n",
      "1             5.0  great for beginner or experienced person. Boug...\n",
      "2             5.0  Inexpensive tablet for him to use and learn on...\n",
      "3             4.0  I've had my Fire HD 8 two weeks now and I love...\n",
      "4             5.0  I bought this for my grand daughter when she c...\n"
     ]
    }
   ],
   "source": [
    "#REMOVING UN-NECESSARY DATA FROM THE DATASET ONLY STORING TEXT AND RATINGS\n",
    "r_data1=raw_data[['reviews.rating','reviews.text']]\n",
    "\n",
    "print(r_data1.head())"
   ]
  },
  {
   "cell_type": "code",
   "execution_count": 106,
   "metadata": {},
   "outputs": [
    {
     "name": "stdout",
     "output_type": "stream",
     "text": [
      "   ratings                                               text\n",
      "0      5.0  This product so far has not disappointed. My c...\n",
      "1      5.0  great for beginner or experienced person. Boug...\n",
      "2      5.0  Inexpensive tablet for him to use and learn on...\n",
      "3      4.0  I've had my Fire HD 8 two weeks now and I love...\n",
      "4      5.0  I bought this for my grand daughter when she c...\n"
     ]
    },
    {
     "name": "stderr",
     "output_type": "stream",
     "text": [
      "C:\\Users\\SAYANTAN\\Anaconda3\\lib\\site-packages\\pandas\\core\\frame.py:3781: SettingWithCopyWarning: \n",
      "A value is trying to be set on a copy of a slice from a DataFrame\n",
      "\n",
      "See the caveats in the documentation: http://pandas.pydata.org/pandas-docs/stable/indexing.html#indexing-view-versus-copy\n",
      "  return super(DataFrame, self).rename(**kwargs)\n"
     ]
    }
   ],
   "source": [
    "r_data1.rename(columns={'reviews.rating':'ratings','reviews.text':'text'},inplace=True)\n",
    "\n",
    "print(r_data1.head())"
   ]
  },
  {
   "cell_type": "code",
   "execution_count": 107,
   "metadata": {},
   "outputs": [
    {
     "data": {
      "text/plain": [
       "True"
      ]
     },
     "execution_count": 107,
     "metadata": {},
     "output_type": "execute_result"
    }
   ],
   "source": [
    "#CHECKING FOR NAN VALUES IN DATASET\n",
    "\n",
    "r_data1.isnull().values.any()"
   ]
  },
  {
   "cell_type": "code",
   "execution_count": 108,
   "metadata": {},
   "outputs": [
    {
     "name": "stdout",
     "output_type": "stream",
     "text": [
      "      ratings text\n",
      "3111      5.0  NaN\n"
     ]
    }
   ],
   "source": [
    "#PRINTING NAN DATA'S\n",
    "\n",
    "nan_rows1 = r_data1[r_data1['text'].isnull()]\n",
    "print(nan_rows1)"
   ]
  },
  {
   "cell_type": "code",
   "execution_count": 109,
   "metadata": {},
   "outputs": [
    {
     "name": "stdout",
     "output_type": "stream",
     "text": [
      "       ratings                                               text\n",
      "2886       NaN  The Kindle is my first e-ink reader. I own an ...\n",
      "2887       NaN  I'm a first-time Kindle owner, so I have nothi...\n",
      "2888       NaN  UPDATE NOVEMBER 2011:My review is now over a y...\n",
      "2889       NaN  I'm a first-time Kindle owner, so I have nothi...\n",
      "2890       NaN  I woke up to a nice surprise this morning: a n...\n",
      "2891       NaN  The Kindle is my first e-ink reader. I own an ...\n",
      "2892       NaN  UPDATE NOVEMBER 2011:br /br /My review is now ...\n",
      "2893       NaN  I woke up to a nice surprise this morning: a n...\n",
      "2894       NaN  I use to hate to read but now that I have my K...\n",
      "2895       NaN  All of them quit working. There's absolutely n...\n",
      "2896       NaN  I recently ordered my 8th Kindle. It was to re...\n",
      "2897       NaN                                    Great. Love it.\n",
      "2898       NaN  I researched the purchase of a Kindle for a lo...\n",
      "2899       NaN  This thing has captured my wife's heart. She r...\n",
      "2900       NaN  I got my Kindle a few years ago and barely use...\n",
      "2901       NaN  It was excellent for me in one moment when I w...\n",
      "2902       NaN  Bought for my husband for Christmas and I have...\n",
      "2903       NaN  It simply works even after 3.5 years of consta...\n",
      "2904       NaN  I would highly recommend them to everyone. Got...\n",
      "3691       NaN  UPDATE: I bought both a Fire HD and a Gen 2. (...\n",
      "3692       NaN  I just received my kindle fire today. I had a ...\n",
      "3693       NaN  I purchased the Kindle Fire ten months ago for...\n",
      "3694       NaN  My 7 year old son has the 1st gen Kindle Fire,...\n",
      "14727      NaN  Having received my Fire TV today, I've been tr...\n",
      "14728      NaN  I'm your typical middle-aged woman - I don't g...\n",
      "14729      NaN  An Amazon.com official commented on this revie...\n",
      "14731      NaN  Having received my Fire TV today, I've been tr...\n",
      "14732      NaN  I am not a casual user of on-demand content an...\n",
      "21226      NaN  My previous kindle was a DX, this is my second...\n",
      "21227      NaN  Just got mine right now. Looks the same as the...\n",
      "21228      NaN  As reviewed by the wife This is the perfect th...\n",
      "21229      NaN  My new Kindle Paperwhite came from the USA to ...\n",
      "29572      NaN  This stuff tastes great. It does have sugar in...\n"
     ]
    }
   ],
   "source": [
    "#PRINTING NAN DATA'S\n",
    "nan_rows2=r_data1[r_data1['ratings'].isnull()]\n",
    "print(nan_rows2)"
   ]
  },
  {
   "cell_type": "code",
   "execution_count": 110,
   "metadata": {},
   "outputs": [
    {
     "data": {
      "text/plain": [
       "ratings    33\n",
       "text        1\n",
       "dtype: int64"
      ]
     },
     "execution_count": 110,
     "metadata": {},
     "output_type": "execute_result"
    }
   ],
   "source": [
    "#OBSERVING THE TOTAL NUMBER OF NAN'S IN DATASET\n",
    "\n",
    "\n",
    "r_data1[r_data1.columns].isnull().sum()"
   ]
  },
  {
   "cell_type": "code",
   "execution_count": 111,
   "metadata": {},
   "outputs": [],
   "source": [
    "#REMOVING NAN DATA FROM THE DATA-SET\n",
    "\n",
    "r_data1=r_data1.dropna(how='any')"
   ]
  },
  {
   "cell_type": "code",
   "execution_count": 112,
   "metadata": {},
   "outputs": [
    {
     "data": {
      "text/plain": [
       "ratings    0\n",
       "text       0\n",
       "dtype: int64"
      ]
     },
     "execution_count": 112,
     "metadata": {},
     "output_type": "execute_result"
    }
   ],
   "source": [
    "#VALIDATING WHETHER ALL NAN'S HAVE BEEN DROPPED OR NOT\n",
    "r_data1[r_data1.columns].isnull().sum()"
   ]
  },
  {
   "cell_type": "code",
   "execution_count": 113,
   "metadata": {},
   "outputs": [],
   "source": [
    "#VECTORIZING THE REVIEW SECTION\n",
    "from sklearn.feature_extraction.text import CountVectorizer\n",
    "\n",
    "cv = CountVectorizer(binary=True)\n",
    "cv.fit(r_data1['text'])\n",
    "X = cv.transform(r_data1['text'])\n",
    "X_test = cv.transform(r_data1['text'])"
   ]
  },
  {
   "cell_type": "code",
   "execution_count": 114,
   "metadata": {},
   "outputs": [
    {
     "name": "stderr",
     "output_type": "stream",
     "text": [
      "C:\\Users\\SAYANTAN\\Anaconda3\\lib\\site-packages\\sklearn\\model_selection\\_split.py:2026: FutureWarning: From version 0.21, test_size will always complement train_size unless both are specified.\n",
      "  FutureWarning)\n"
     ]
    }
   ],
   "source": [
    "#SETTING UP -LOGISTIC REGRESSION CLASSIFIER\n",
    "from sklearn.linear_model import LogisticRegression\n",
    "from sklearn.metrics import accuracy_score\n",
    "from sklearn.model_selection import train_test_split\n",
    "\n",
    "X_train, X_val, y_train, y_val = train_test_split(\n",
    "    X, r_data1['ratings'], train_size = 0.75\n",
    ")"
   ]
  },
  {
   "cell_type": "code",
   "execution_count": 115,
   "metadata": {},
   "outputs": [
    {
     "name": "stdout",
     "output_type": "stream",
     "text": [
      "Accuracy for C=0.01: 0.7062492780408918\n",
      "Accuracy for C=0.05: 0.7157213815409496\n",
      "Accuracy for C=0.25: 0.7172230564860806\n",
      "Accuracy for C=0.5: 0.7145662469677717\n",
      "Accuracy for C=1: 0.7106387894189673\n"
     ]
    }
   ],
   "source": [
    "#CHECKING ACCURACY\n",
    "for c in [0.01, 0.05, 0.25, 0.5, 1]:\n",
    "    \n",
    "    lr = LogisticRegression(C=c)\n",
    "    lr.fit(X_train, y_train)\n",
    "    print (\"Accuracy for C=%s: %s\" \n",
    "           % (c, accuracy_score(y_val, lr.predict(X_val))))"
   ]
  },
  {
   "cell_type": "code",
   "execution_count": 116,
   "metadata": {},
   "outputs": [
    {
     "name": "stdout",
     "output_type": "stream",
     "text": [
      "Accuracy :  0.6874205844980941\n"
     ]
    }
   ],
   "source": [
    "#SETTING UP DECISION TREE CLASSIFIER\n",
    "\n",
    "from sklearn.tree import DecisionTreeClassifier as DTC\n",
    "\n",
    "dtc=DTC(criterion='gini',random_state=100,min_samples_leaf=290)\n",
    "\n",
    "dtc.fit(X_train,y_train)\n",
    "\n",
    "print(\"Accuracy : \",accuracy_score(y_val,dtc.predict(X_val)))"
   ]
  },
  {
   "cell_type": "code",
   "execution_count": 118,
   "metadata": {},
   "outputs": [
    {
     "name": "stdout",
     "output_type": "stream",
     "text": [
      "Accuracy :  0.6944669053944784\n"
     ]
    }
   ],
   "source": [
    "from sklearn.ensemble import RandomForestClassifier as RFC\n",
    "\n",
    "rfc=RFC(n_estimators=150)\n",
    "\n",
    "rfc.fit(X_train,y_train)\n",
    "\n",
    "print(\"Accuracy : \",accuracy_score(y_val,rfc.predict(X_val)))"
   ]
  },
  {
   "cell_type": "code",
   "execution_count": 119,
   "metadata": {},
   "outputs": [
    {
     "name": "stdout",
     "output_type": "stream",
     "text": [
      "Accuracy  0.6881136652420007\n"
     ]
    }
   ],
   "source": [
    "from sklearn.svm import SVC  \n",
    "svclassifier = SVC(kernel='linear')  \n",
    "svclassifier.fit(X_train, y_train)\n",
    "\n",
    "print(\"Accuracy \",accuracy_score(y_val,svclassifier.predict(X_val)))"
   ]
  },
  {
   "cell_type": "code",
   "execution_count": null,
   "metadata": {},
   "outputs": [],
   "source": []
  }
 ],
 "metadata": {
  "kernelspec": {
   "display_name": "Python 3",
   "language": "python",
   "name": "python3"
  },
  "language_info": {
   "codemirror_mode": {
    "name": "ipython",
    "version": 3
   },
   "file_extension": ".py",
   "mimetype": "text/x-python",
   "name": "python",
   "nbconvert_exporter": "python",
   "pygments_lexer": "ipython3",
   "version": "3.7.0"
  }
 },
 "nbformat": 4,
 "nbformat_minor": 2
}
